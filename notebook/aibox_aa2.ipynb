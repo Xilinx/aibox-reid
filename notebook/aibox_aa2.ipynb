{
 "cells": [
  {
   "cell_type": "markdown",
   "metadata": {},
   "source": [
    "![Xilinx Logo](images/xilinx_logo.png \"Xilinx Logo\")"
   ]
  },
  {
   "cell_type": "markdown",
   "metadata": {},
   "source": [
    "# 1. Introduction:\n",
    "\n",
    "This notebook demonstrates how setup an RTSP server which captures images from the MIPI devices, the performs face detection inference on DPU, and sends out stream with bounding boxes of detected results. Using the GStreamer multimedia framework.\n",
    "\n"
   ]
  },
  {
   "cell_type": "markdown",
   "metadata": {},
   "source": [
    "# 2. Imports and Initialization\n",
    "Import all python modules required for this notebook.\n"
   ]
  },
  {
   "cell_type": "code",
   "execution_count": null,
   "metadata": {},
   "outputs": [],
   "source": [
    "import sys\n",
    "import glob\n",
    "import subprocess\n",
    "import re"
   ]
  },
  {
   "cell_type": "code",
   "execution_count": null,
   "metadata": {},
   "outputs": [],
   "source": [
    "import gi\n",
    "gi.require_version('Gst', '1.0')\n",
    "gi.require_version(\"GstApp\", \"1.0\")\n",
    "gi.require_version('GstVideo', '1.0')\n",
    "gi.require_version('GstRtspServer', '1.0')\n",
    "gi.require_version('GIRepository', '2.0')\n",
    "from gi.repository import GObject, Gst, GstVideo, GstRtspServer, GLib, GIRepository\n",
    "Gst.init(None)"
   ]
  },
  {
   "cell_type": "code",
   "execution_count": null,
   "metadata": {},
   "outputs": [],
   "source": [
    "mainloop = GLib.MainLoop()\n",
    "server = GstRtspServer.RTSPServer.new()\n",
    "server.props.service = \"5000\"\n",
    "server.attach(None)\n",
    "mounts = server.get_mount_points()\n",
    "factory = GstRtspServer.RTSPMediaFactory()"
   ]
  },
  {
   "cell_type": "markdown",
   "metadata": {},
   "source": [
    "# 3. Construct the String Representation of GStreamer Pipeline\n",
    "## The get_media_by_device function returns the matching media node for a given video capture source. The following sources are supported in this notebook:\n",
    "\n",
    "* usb : requires USB webcam\n",
    "* mipi : platform1 only"
   ]
  },
  {
   "cell_type": "code",
   "execution_count": null,
   "metadata": {},
   "outputs": [],
   "source": [
    "def get_media_dev_by_name(src):\n",
    "    sources = {\n",
    "        \"usb\" : 'uvcvideo',\n",
    "        'mipi' : 'vcap_csi',\n",
    "    }\n",
    "    devices = glob.glob('/dev/media*')\n",
    "    for dev in devices:\n",
    "        proc = subprocess.run(['media-ctl', '-d', dev, '-p'], capture_output=True, encoding='utf8')\n",
    "        for line in proc.stdout.splitlines():\n",
    "            if sources[src] in line:\n",
    "                return dev"
   ]
  },
  {
   "cell_type": "markdown",
   "metadata": {},
   "source": [
    "## Get the src by calling get_media_dev_by_name()"
   ]
  },
  {
   "cell_type": "code",
   "execution_count": null,
   "metadata": {},
   "outputs": [],
   "source": [
    "source = \"mipi\" # Change source usb\n",
    "\n",
    "media_device = get_media_dev_by_name(source) \n",
    "if media_device is None:\n",
    "    raise Exception('Unable to find video source ' + source + '. Make sure the device is plugged in, powered, and the correct platform is used.')\n",
    "src = \"mediasrcbin media-device=\" + media_device"
   ]
  },
  {
   "cell_type": "markdown",
   "metadata": {},
   "source": [
    "## Construct the real pipeline string."
   ]
  },
  {
   "cell_type": "markdown",
   "metadata": {},
   "source": [
    "### configuration directory for IVAS plugin"
   ]
  },
  {
   "cell_type": "code",
   "execution_count": null,
   "metadata": {},
   "outputs": [],
   "source": [
    "aitask=\"facedetect\""
    "confdir=\"/opt/xilinx/share/ivas/\"+aitask"
   ]
  },
  {
   "cell_type": "markdown",
   "metadata": {},
   "source": [
    "### Set the caps.\n",
    "User can change the resolution and framerate here.\n",
    "\n",
    "If videosrc cannot support format NV12, adjust the pipeline to fit with followning elements."
   ]
  },
  {
   "cell_type": "code",
   "execution_count": null,
   "metadata": {},
   "outputs": [],
   "source": [
    "pip=src + ' ! video/x-raw, width=1920, height=1080, format=NV12, framerate=30/1 '"
   ]
  },
  {
   "cell_type": "markdown",
   "metadata": {},
   "source": [
    "### Add one branch to perform AI inference.\n",
    "ivas_xm2m kconfig=\"{confdir}/kernel_xpp_pipeline.json\" is for an element to do colorspace conversion from NV12 to BGR, and scale to the size needed by DPU, also perform the quantization as DPU model needed.\n",
    "\n",
    "Detailed configuration please see the json file."
   ]
  },
  {
   "cell_type": "code",
   "execution_count": null,
   "metadata": {},
   "outputs": [],
   "source": [
    "pip += ' ! tee name=t  ! queue \\\n",
    "! ivas_xm2m kconfig=\"{confdir}/preprocess.json\" \\\n",
    "! video/x-raw, width=640, height=360, format=BGR \\\n",
    "! queue ! ivas_xfilter kernels-config=\"{confdir}/aiinference.json\" \\\n",
    "! ima.sink_master ivas_xmetaaffixer name=ima ima.src_master ! fakesink '.format(confdir=confdir)"
   ]
  },
  {
   "cell_type": "markdown",
   "metadata": {},
   "source": [
    "### Another brach to accept the inference meta data, and drawing boundingbox."
   ]
  },
  {
   "cell_type": "code",
   "execution_count": null,
   "metadata": {},
   "outputs": [],
   "source": [
    "pip += ' t. ! queue ! ima.sink_slave_0 ima.src_slave_0 ! queue \\\n",
    "! ivas_xfilter kernels-config=\"{confdir}/drawresult.json\" '.format(confdir=confdir)"
   ]
  },
  {
   "cell_type": "markdown",
   "metadata": {},
   "source": [
    "### Then pass the frame with bbox to do VCU encoding with bbox info as encoding ROI."
   ]
  },
  {
   "cell_type": "code",
   "execution_count": null,
   "metadata": {},
   "outputs": [],
   "source": [
    "\n",
    "pip += ' ! queue ! ivas_xroigen roi-type=1 roi-qp-delta=-10 roi-max-num=10   \\\n",
    "! queue ! omxh265enc qp-mode=1 num-slices=8 gop-length=60 \\\n",
    " periodicity-idr=270 control-rate=low-latency \\\n",
    " gop-mode=low-delay-p gdr-mode=horizontal cpb-size=200 \\\n",
    " initial-delay=100  filler-data=false min-qp=15 \\\n",
    " max-qp=40  b-frames=0  low-bandwidth=false  \\\n",
    "! video/x-h265, alignment=au \\\n",
    "! queue ! rtph265pay name=pay0 pt=96'"
   ]
  },
  {
   "cell_type": "markdown",
   "metadata": {},
   "source": [
    "# 4. Start the RTSP Server With the Pipeline String"
   ]
  },
  {
   "cell_type": "code",
   "execution_count": null,
   "metadata": {},
   "outputs": [],
   "source": [
    "factory.set_launch('( ' + pip + ' )')\n",
    "factory.set_shared(True)\n",
    "mounts.add_factory(\"/test\", factory)\n",
    "\n",
    "out=subprocess.check_output(\"ifconfig | grep inet\", shell=True)\n",
    "for line in out.decode(\"ascii\").splitlines():\n",
    "    m = re.search('inet addr:(.*?) ', line)\n",
    "    if m:\n",
    "        found = m.group(1)\n",
    "        if found != \"127.0.0.1\":\n",
    "            break\n",
    "uri=\"rtsp://{}:{}/test\".format(\"127.0.0.1\" if (found==\"\") else found, server.props.service)\n",
    "print (\"stream ready, play with \\\"ffplay {uri}\\\"\".format(uri=uri))\n",
    "try:\n",
    "    mainloop.run()\n",
    "except:\n",
    "    sys.stdout.write(\"Interrupt caught.\\n\")\n",
    "    mainloop.quit()\n",
    "    pass\n"
   ]
  },
  {
   "cell_type": "markdown",
   "metadata": {},
   "source": [
    "# 5. Summary\n",
    "The Jupyter application shows how to:\n",
    "\n",
    "1. Create a GStreamer pipeline which utilize the IVAS framework to call Vitis AI Library to do face detection inference on the incoming frames, and draw boundboxing of detected results.\n",
    "2. Use the GStreamer RTSPServer module to setup an RTSP server.\n",
    "3. User can try to customize the source to video file or USB camera."
   ]
  },
  {
   "cell_type": "markdown",
   "metadata": {},
   "source": [
    "<center>Copyright© 2019 Xilinx</center>"
   ]
  }
 ],
 "metadata": {
  "kernelspec": {
   "display_name": "Python 3",
   "language": "python",
   "name": "python3"
  },
  "language_info": {
   "codemirror_mode": {
    "name": "ipython",
    "version": 3
   },
   "file_extension": ".py",
   "mimetype": "text/x-python",
   "name": "python",
   "nbconvert_exporter": "python",
   "pygments_lexer": "ipython3",
   "version": "3.7.6"
  }
 },
 "nbformat": 4,
 "nbformat_minor": 4
}
